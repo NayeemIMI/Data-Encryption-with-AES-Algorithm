{
  "nbformat": 4,
  "nbformat_minor": 0,
  "metadata": {
    "colab": {
      "name": "AES.ipynb",
      "provenance": [],
      "collapsed_sections": [],
      "authorship_tag": "ABX9TyOY7AGK3jBOX0pEq+ewynV3",
      "include_colab_link": true
    },
    "kernelspec": {
      "name": "python3",
      "display_name": "Python 3"
    }
  },
  "cells": [
    {
      "cell_type": "markdown",
      "metadata": {
        "id": "view-in-github",
        "colab_type": "text"
      },
      "source": [
        "<a href=\"https://colab.research.google.com/github/NayeemIMI/Data-Encryption-with-AES-Algorithm/blob/main/AES.ipynb\" target=\"_parent\"><img src=\"https://colab.research.google.com/assets/colab-badge.svg\" alt=\"Open In Colab\"/></a>"
      ]
    },
    {
      "cell_type": "code",
      "metadata": {
        "colab": {
          "base_uri": "https://localhost:8080/"
        },
        "id": "fUpKrIT9aYt2",
        "outputId": "26888ec1-f00c-4143-85b6-a0b4a497286b"
      },
      "source": [
        "!pip install PyCryptodomex\r\n",
        "!pip install PyCrypto\r\n",
        "!pip install PyCryptodome\r\n",
        "\r\n",
        "import base64\r\n",
        "import hashlib\r\n",
        "from Cryptodome.Cipher import AES as domeAES\r\n",
        "from Cryptodome.Random import get_random_bytes\r\n",
        "from Crypto import Random\r\n",
        "from Crypto.Cipher import AES as cryptoAES\r\n",
        "from time import time\r\n",
        "\r\n",
        "BLOCK_SIZE = 16\r\n",
        "K=input(\"Enter AES key:\")\r\n",
        "key = K.encode()\r\n",
        "#print(\"Original Key: \",K,\"\\n\")\r\n",
        "__key__ = hashlib.sha256(key).digest()\r\n",
        "#__key__=key\r\n",
        "print(\"Hashed Key: \",__key__,\"\\n\")\r\n",
        "\r\n",
        "def encrypt(raw):\r\n",
        "    BS = cryptoAES.block_size\r\n",
        "    pad = lambda s: s + (BS - len(s) % BS) * chr(BS - len(s) % BS)\r\n",
        "    raw = base64.b64encode(pad(raw).encode('utf8'))\r\n",
        "    iv = get_random_bytes(cryptoAES.block_size)\r\n",
        "    cipher = cryptoAES.new(key= __key__, mode= cryptoAES.MODE_CFB,iv=iv)\r\n",
        "    a= base64.b64encode(iv + cipher.encrypt(raw))\r\n",
        "    IV = Random.new().read(BLOCK_SIZE)\r\n",
        "    aes = domeAES.new(__key__, domeAES.MODE_CFB, IV)\r\n",
        "    b = base64.b64encode(IV + aes.encrypt(a))\r\n",
        "    return b\r\n",
        "\r\n",
        "def decrypt(enc):\r\n",
        "    passphrase = __key__\r\n",
        "    encrypted = base64.b64decode(enc)\r\n",
        "    IV = encrypted[:BLOCK_SIZE]\r\n",
        "    aes = domeAES.new(passphrase, domeAES.MODE_CFB, IV)\r\n",
        "    enc = aes.decrypt(encrypted[BLOCK_SIZE:])\r\n",
        "    unpad = lambda s: s[:-ord(s[-1:])]\r\n",
        "    enc = base64.b64decode(enc)\r\n",
        "    iv = enc[:cryptoAES.block_size]\r\n",
        "    cipher = cryptoAES.new(__key__, cryptoAES.MODE_CFB, iv)\r\n",
        "    b=  unpad(base64.b64decode(cipher.decrypt(enc[cryptoAES.block_size:])).decode('utf8'))\r\n",
        "    return b\r\n",
        "msg = input(\"Enter Message to encrypt:\")\r\n",
        "T1=time()\r\n",
        "encrypted_data =encrypt(msg)\r\n",
        "print(\"Original Message: \",msg,\"\\n\")\r\n",
        "print(\"Encrypted Message: \",encrypted_data)\r\n",
        "print(\"\\n\")\r\n",
        "decrypted_data = decrypt(encrypted_data)\r\n",
        "T2=time()\r\n",
        "print(\"Time: {:0.3f} s\".format(round(T2 - T1, 3)))\r\n",
        "print(\"Decrypted Message: \",decrypted_data)"
      ],
      "execution_count": 3,
      "outputs": [
        {
          "output_type": "stream",
          "text": [
            "Requirement already satisfied: PyCryptodomex in /usr/local/lib/python3.6/dist-packages (3.10.1)\n",
            "Requirement already satisfied: PyCrypto in /usr/local/lib/python3.6/dist-packages (2.6.1)\n",
            "Requirement already satisfied: PyCryptodome in /usr/local/lib/python3.6/dist-packages (3.10.1)\n",
            "Enter AES key:hju\n",
            "Hashed Key:  b'\\x05%fP[J]\\x8c\\xa7\\xe6\\x87\\xdf\\x0c\\xd6<\\x1a\\x9f\\xcb\"b+\\x95\\x11\\xf0\\xea\\xb0\\xfe/\\xcb\\xd0\\x03\\xe1' \n",
            "\n",
            "Enter Message to encrypt:jko\n",
            "Original Message:  jko \n",
            "\n",
            "Encrypted Message:  b'4KZEp+0k7K/lTd4XBael7YU5qHzKO00igcDuHNcsQUEykLNwnGl81cQuvxCAGGRMS8BGr8OfFuMMg1dSFRGZ8gQuc1aC6cRw'\n",
            "\n",
            "\n",
            "Time: 0.008 s\n",
            "Decrypted Message:  jko\n"
          ],
          "name": "stdout"
        }
      ]
    }
  ]
}